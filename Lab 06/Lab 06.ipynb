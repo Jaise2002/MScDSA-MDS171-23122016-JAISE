{
 "cells": [
  {
   "cell_type": "markdown",
   "metadata": {},
   "source": [
    "Lab 06:\n",
    "Vowel Counter!\n",
    "\n",
    "Write a program for collecting a string from the user and counting the number of vowels.\n",
    "\n",
    "Print the total count of vowels\n",
    "Print each vowel and its count\n",
    "Calculate the percentage of vowels in the given string\n",
    "Make use of functions and format your output accordingly\n"
   ]
  },
  {
   "cell_type": "code",
   "execution_count": 21,
   "metadata": {},
   "outputs": [
    {
     "name": "stdout",
     "output_type": "stream",
     "text": [
      "given string is : jaisehaioot\n",
      "count of a :  2\n",
      "count of e :  1\n",
      "count of i :  2\n",
      "count of o :  2\n",
      "count of u :  0\n",
      "total count of vowals : 7\n"
     ]
    }
   ],
   "source": [
    "word=input(\"enter the word :\")#receaving the string\n",
    "print(\"given string is :\",word)\n",
    "word=word.lower()#making the characters to lower case\n",
    "\n",
    "counta=0\n",
    "counte=0\n",
    "counti=0\n",
    "counto=0\n",
    "countu=0\n",
    "def vowal(word,counta,counte,counti,counto,countu):#defining function to count number of vowals and also the total count of vowal \n",
    "    \n",
    "    for i in word:\n",
    "       if i==\"a\":\n",
    "          counta+=1\n",
    "       elif i==\"e\":\n",
    "              counte+=1\n",
    "       elif i==\"i\":\n",
    "               counti+=1\n",
    "       elif i==\"o\":\n",
    "               counto+=1\n",
    "       elif i==\"u\":\n",
    "               countu+=1\n",
    "                  \n",
    "              \n",
    "              \n",
    "    print(\"count of a : \",counta)\n",
    "    print(\"count of e : \",counte)\n",
    "    print(\"count of i : \",counti)\n",
    "    print(\"count of o : \",counto)\n",
    "    print(\"count of u : \",countu)\n",
    "    j=counta+counte+counti+counto+countu\n",
    "    print(\"total count of vowals :\",j)\n",
    "    return j\n",
    "    \n",
    "j=vowal(word,counta,counte,counti,counto,countu)#calling function        \n",
    "       "
   ]
  },
  {
   "cell_type": "markdown",
   "metadata": {},
   "source": [
    "percentage of vowal"
   ]
  },
  {
   "cell_type": "code",
   "execution_count": 22,
   "metadata": {},
   "outputs": [
    {
     "name": "stdout",
     "output_type": "stream",
     "text": [
      "percentage of vowals in the string : 63.63636363636363 %\n"
     ]
    }
   ],
   "source": [
    "def per(word,j):#function for finding percentage of vowals in string\n",
    "    length=len(word)\n",
    "    percentage=(j/length)*100\n",
    "    print(\"percentage of vowals in the string :\",percentage,\"%\")\n",
    "per(word,j)    "
   ]
  }
 ],
 "metadata": {
  "kernelspec": {
   "display_name": "Python 3",
   "language": "python",
   "name": "python3"
  },
  "language_info": {
   "codemirror_mode": {
    "name": "ipython",
    "version": 3
   },
   "file_extension": ".py",
   "mimetype": "text/x-python",
   "name": "python",
   "nbconvert_exporter": "python",
   "pygments_lexer": "ipython3",
   "version": "3.11.4"
  },
  "orig_nbformat": 4
 },
 "nbformat": 4,
 "nbformat_minor": 2
}
