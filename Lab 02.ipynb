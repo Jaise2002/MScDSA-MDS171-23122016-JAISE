{
 "cells": [
  {
   "cell_type": "markdown",
   "metadata": {},
   "source": [
    "Lab 02:\n",
    "The Name Collector's Quest\n",
    "\n",
    "In a quaint little village named Harmonyville, there lived a curious individual named Alex. Alex was known for his passion for collecting names. His dream was to create an extensive list of unique names that would reflect the diversity and camaraderie of the village. Alex used to sit in the village junction; as the villagers passed, Alex eagerly approached them and asked for their names. With each encounter, they diligently recorded the names in his notepad.\n",
    "\n",
    "To keep things organized, You were one among the villagers and have decided to create a program to assist them in this endeavour. You asked Alex to begin by defining a list on his laptop instead of his notepad, and you started writing functions to add names.\n",
    "\n",
    "The function that you have defined should do\n",
    "\n",
    "Whenever a new name is encountered, record it.\n",
    "If an existing name comes, the program says the name exists.\n",
    "Alex makes a lot of mistakes; your program also has to do the necessary validations.\n",
    "The function quits when q is entered as a name and prints all the names in the list, and then he has to call the function.\n",
    "As a data analyst of the village, analyse the names in the list.\n",
    "Days turned into weeks and weeks into months. Alex's name collection grew beyond their wildest dreams. The villagers admired their dedication and the beautifully organized list they had created. Alex's program became a legend in Harmonyville, passed down from generation to generation.\n",
    "\n",
    "And so, in the heart of the village, Alex's legacy lived on - a story of names, community, and the power of coding to bring dreams to life."
   ]
  },
  {
   "cell_type": "code",
   "execution_count": 5,
   "metadata": {},
   "outputs": [],
   "source": [
    "names = []#declaring list"
   ]
  },
  {
   "cell_type": "code",
   "execution_count": 6,
   "metadata": {},
   "outputs": [
    {
     "name": "stdout",
     "output_type": "stream",
     "text": [
      "Enter a valid name\n",
      "Enter a valid name\n",
      "Unique Name list : ['jaise', 'george', 'sreenath', 'koii']\n"
     ]
    }
   ],
   "source": [
    "def addNames():#defining function addName\n",
    "\twhile True:#loop\n",
    "\t\tname = input(\"Enter the name(Quit : type q: \")#user input\n",
    "\t\tif name.lower() == 'q':#to print the current list item\n",
    "\t\t\tprint(f\"Unique Name list : {names}\")\n",
    "\t\t\tbreak\n",
    "\t\tif name in names:#cheking duplicate values\n",
    "\t\t\tprint(\"Name already exist !\")\n",
    "\t\t\tcontinue\n",
    "\t\tif  name.isspace() :#cheking invalid entry \n",
    "\t\t\tprint(\"Enter a valid name\")\n",
    "\t\t\tcontinue\n",
    "\t\telse:\n",
    "\t\t\t\tfor ch in name:\n",
    "\t\t\t\t\tif  ch.isdigit():#cheking wether the entered number is digit or not \n",
    "\t\t\t\t\t\tprint(\"Enter a valid name\")\n",
    "\t\t\t\t\t\tbreak\n",
    "\t\t\t\t\tcontinue\n",
    "\t\t\t\telse:\n",
    "\t\t\t\t\tnames.append(name)#appending the values to the list \n",
    "\t\t\t\t\t\n",
    "addNames()#function calling\n"
   ]
  },
  {
   "cell_type": "markdown",
   "metadata": {},
   "source": [
    ":analysing part"
   ]
  },
  {
   "cell_type": "code",
   "execution_count": 7,
   "metadata": {},
   "outputs": [
    {
     "name": "stdout",
     "output_type": "stream",
     "text": [
      "1\n"
     ]
    }
   ],
   "source": [
    "\n",
    "print(names.count(\"jaise\"))\n",
    "\n",
    " \n",
    "          "
   ]
  },
  {
   "cell_type": "code",
   "execution_count": null,
   "metadata": {},
   "outputs": [],
   "source": []
  },
  {
   "cell_type": "code",
   "execution_count": null,
   "metadata": {},
   "outputs": [],
   "source": []
  }
 ],
 "metadata": {
  "kernelspec": {
   "display_name": "Python 3",
   "language": "python",
   "name": "python3"
  },
  "language_info": {
   "codemirror_mode": {
    "name": "ipython",
    "version": 3
   },
   "file_extension": ".py",
   "mimetype": "text/x-python",
   "name": "python",
   "nbconvert_exporter": "python",
   "pygments_lexer": "ipython3",
   "version": "3.11.4"
  },
  "orig_nbformat": 4
 },
 "nbformat": 4,
 "nbformat_minor": 2
}
