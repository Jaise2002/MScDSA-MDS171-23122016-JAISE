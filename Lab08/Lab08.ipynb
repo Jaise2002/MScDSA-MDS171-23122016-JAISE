{
 "cells": [
  {
   "cell_type": "code",
   "execution_count": 25,
   "metadata": {},
   "outputs": [],
   "source": [
    "x=[]\n",
    "y=[]\n",
    "result=[]\n",
    "matrix={\"matrix1\":x,\"matrix2\":y,\"result\":result}\n",
    "def menu():#function for showing instruction\n",
    "   print(\"*\"*20,\"INSTRUCTION\",\"*\"*15)\n",
    "   print(\"-matrix should be of the form  M x N and N x P \")\n",
    "   print(\"-resulting matrix have the order M x P\")\n",
    "   print(\"-example:3x2 and 2x4 give a resulting matrix 3x4\")\n",
    "   print(\"*\"*50)"
   ]
  },
  {
   "cell_type": "code",
   "execution_count": 26,
   "metadata": {},
   "outputs": [],
   "source": [
    "def matrix():#function for entering matrix\n",
    "    #matrix={\"matrix1\":x,\"matrix2\":y,\"result\":result}\n",
    "    print(\"GIVE MATRIX ORDER AS INSTRUCTED..!\")\n",
    "    m=int(input(\"M :\"))\n",
    "    n=int(input(\"N :\"))\n",
    "    p=int(input(\"P :\"))\n",
    "    print(\"GIVEN METRIX :\",m,\"x\",n,\"AND\",n,\"x\",p)\n",
    "    \n",
    "    for i in range(m):\n",
    "         r=[]\n",
    "         for j in range(n):\n",
    "            v=int(input(\"enter elements :\"))\n",
    "            r.append(v)\n",
    "         x.append(r) \n",
    "\n",
    "    #print(\"matrix1 :\",matrix[\"matrix1\"])\n",
    "    print(\"matrix1\",x) \n",
    "\n",
    "  \n",
    "    for i in range(n):\n",
    "       s=[]\n",
    "       for i in range(p):\n",
    "            c=int(input(\"enter the elemnts :\"))    \n",
    "            s.append(c)\n",
    "       y.append(s)\n",
    "   \n",
    "    #print(\"matrix2 :\",matrix[\"matrix2\"])\n",
    "    print(\"matrix2 :\",y) "
   ]
  },
  {
   "cell_type": "code",
   "execution_count": 27,
   "metadata": {},
   "outputs": [],
   "source": [
    "def product():#function for getting the product of matrix1 and matrix2\n",
    "    #matrix={\"matrix1\":x,\"matrix2\":y,\"result\":result}\n",
    "    for i in range(len(x)):\n",
    "        e=[]\n",
    "        for j in range(len(y)):\n",
    "            e.append(0)\n",
    "        result.append(e)\n",
    "     \n",
    "    for i in range(len(x)):\n",
    "        for j in range(len(y[0])):\n",
    "            for k in range(len(y)):\n",
    "                result[i][j]+=x[i][k]*y[k][j]\n",
    "    print(\"product of matrix1 and matrix2 is :\")        \n",
    "    for r in result:\n",
    "        print(r) \n",
    "    \n",
    "        \n",
    "        \n"
   ]
  },
  {
   "cell_type": "code",
   "execution_count": 28,
   "metadata": {},
   "outputs": [
    {
     "name": "stdout",
     "output_type": "stream",
     "text": [
      "1.enter the matrixes :\n",
      "2.calculate the product :\n",
      "3.export to file :\n",
      "4.if you want to exit :\n",
      "******************** INSTRUCTION ***************\n",
      "-matrix should be of the form  M x N and N x P \n",
      "-resulting matrix have the order M x P\n",
      "-example:3x2 and 2x4 give a resulting matrix 3x4\n",
      "**************************************************\n",
      "GIVE MATRIX ORDER AS INSTRUCTED..!\n",
      "GIVEN METRIX : 2 x 2 AND 2 x 2\n",
      "matrix1 [[1, 2], [2, 3]]\n",
      "matrix2 : [[2, 3], [2, 3]]\n",
      "1.enter the matrixes :\n",
      "2.calculate the product :\n",
      "3.export to file :\n",
      "4.if you want to exit :\n",
      "product of matrix1 and matrix2 is :\n",
      "[6, 9]\n",
      "[10, 15]\n",
      "1.enter the matrixes :\n",
      "2.calculate the product :\n",
      "3.export to file :\n",
      "4.if you want to exit :\n"
     ]
    }
   ],
   "source": [
    "while True:#making menu driven programming\n",
    "    print(\"1.enter the matrixes :\")\n",
    "    print(\"2.calculate the product :\")\n",
    "    print(\"3.export to file :\")\n",
    "    print(\"4.if you want to exit :\")\n",
    "    choice=int(input(\"enter your choice :\"))\n",
    "    if choice==1:\n",
    "        menu()\n",
    "        matrix()\n",
    "    if choice==2:\n",
    "        product()\n",
    "    if choice==3:\n",
    "        pass\n",
    "    if choice==4:\n",
    "        break"
   ]
  }
 ],
 "metadata": {
  "kernelspec": {
   "display_name": "Python 3",
   "language": "python",
   "name": "python3"
  },
  "language_info": {
   "codemirror_mode": {
    "name": "ipython",
    "version": 3
   },
   "file_extension": ".py",
   "mimetype": "text/x-python",
   "name": "python",
   "nbconvert_exporter": "python",
   "pygments_lexer": "ipython3",
   "version": "3.11.4"
  },
  "orig_nbformat": 4
 },
 "nbformat": 4,
 "nbformat_minor": 2
}
