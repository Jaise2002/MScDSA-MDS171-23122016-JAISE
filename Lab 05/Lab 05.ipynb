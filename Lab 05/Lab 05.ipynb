{
 "cells": [
  {
   "cell_type": "markdown",
   "metadata": {},
   "source": [
    "Lab 05:\n",
    "Mix & Match Calculator\n",
    "\n",
    "Create Lists for [Item, Quantity, Price] with 10 random values of your choice.\n",
    "The item list can be of any category of your choice [Food Items, Grocery Items,...] or anything you choose that can be bought.\n",
    "\n",
    "Prepare a CSV file with combinations of these values with the help of random index & looping statements and other control structures we discussed in class.\n",
    "\n",
    "To get a random index or number to access items from the list, you can use the following:\n",
    "random is a library in Python that can be used to generate random numbers.\n",
    "\n",
    "import random # Importing the external library\n",
    "r1 = random.randint(0, 10) # Generating the random number from the range and store it in r1 variable\n",
    "\n",
    "More details of the Random library usage can be found here.\n",
    "\n",
    "Your CSV file should have a minimum of 100 rows created randomly with the data in the list and the random library.\n",
    "Each row in the CSV file will have (item, Quantity, and UnitPrice).\n",
    "\n",
    "After preparing the CSV with Python code, you need to compute\n",
    "The total cost for each row, display the result from the first 5 rows and the last 10 rows\n",
    "Calculate the total cost for each unique item in the dataset.\n",
    "Item Name | Total Quantity | Total\n",
    "Print the minimum & maximum price for each item sold"
   ]
  },
  {
   "cell_type": "code",
   "execution_count": 39,
   "metadata": {},
   "outputs": [],
   "source": [
    "import random #importing library random\n",
    "\n",
    "iteam=[\"apple\",\"banana\",\"orange\",\"chees\",\"cake\",\"umbrella\",\"lays\",\"ice\",\"chocalate\",\"car\"]#creating liste\n",
    "quantity=[1,2,3,4,5,6,7,8,9,10]\n",
    "price=[100,102,104,106,108,110,112,114,116,118]\n",
    "total=[]"
   ]
  },
  {
   "cell_type": "code",
   "execution_count": 40,
   "metadata": {},
   "outputs": [],
   "source": [
    "def listIteam(iteam,quantity,price):\n",
    " file=open(\"23122016.txt\",\"a+\")\n",
    "\n",
    " for i in range(100):\n",
    "    r1=random.randint(0,9)\n",
    "    r2=random.randint(0,9)\n",
    "    r3=random.randint(0,9)\n",
    "    total=quantity[r2]*price[r3]\n",
    "    file.write(\"\\n\"+str(iteam[r1])+\",\"+str(quantity[r2])+\",\"+str(price[r3])+\",\"+str(total))\n",
    "\n",
    "listIteam(iteam,quantity,price) "
   ]
  },
  {
   "cell_type": "markdown",
   "metadata": {},
   "source": [
    "the total cost for each row displying the result of first 5 row and the last 10 rows"
   ]
  },
  {
   "cell_type": "code",
   "execution_count": 41,
   "metadata": {},
   "outputs": [
    {
     "name": "stdout",
     "output_type": "stream",
     "text": [
      "\n",
      "\n",
      "ice,9,102,918\n",
      "\n",
      "chocalate,4,100,400\n",
      "\n",
      "chocalate,9,104,936\n",
      "\n",
      "umbrella,8,108,864\n",
      "\n",
      "apple,2,110,220\n",
      "\n",
      "chees,7,116,812\n",
      "\n",
      "lays,5,114,570\n",
      "\n",
      "car,9,112,1008\n",
      "\n",
      "lays,4,112,448\n",
      "\n",
      "apple,5,106,530\n",
      "\n",
      "ice,3,114,342\n",
      "\n",
      "lays,9,118,1062\n",
      "\n",
      "ice,7,100,700\n",
      "\n",
      "cake,4,110,440\n",
      "\n",
      "banana,6,100,600\n",
      "\n"
     ]
    }
   ],
   "source": [
    "file=open(\"23122016.txt\",\"r+\")\n",
    "for line in range(6):\n",
    " line=file.readline()\n",
    " print(line) \n",
    "\n",
    "for line in range(91,101):\n",
    "    line=file.readline()\n",
    "    print(line)"
   ]
  },
  {
   "cell_type": "markdown",
   "metadata": {},
   "source": [
    "finding minimum and maximum "
   ]
  },
  {
   "cell_type": "code",
   "execution_count": 42,
   "metadata": {},
   "outputs": [
    {
     "name": "stdout",
     "output_type": "stream",
     "text": [
      "maximum value of : apple 220\n",
      "minimum value of  apple 1180\n",
      "maximum value of : banana 220\n",
      "minimum value of  banana 1180\n",
      "maximum value of : orange 220\n",
      "minimum value of  orange 1180\n",
      "maximum value of : chees 220\n",
      "minimum value of  chees 1180\n",
      "maximum value of : cake 220\n",
      "minimum value of  cake 1180\n",
      "maximum value of : umbrella 220\n",
      "minimum value of  umbrella 1180\n",
      "maximum value of : lays 220\n",
      "minimum value of  lays 1180\n",
      "maximum value of : ice 220\n",
      "minimum value of  ice 1180\n",
      "maximum value of : chocalate 220\n",
      "minimum value of  chocalate 1180\n",
      "maximum value of : car 220\n",
      "minimum value of  car 1180\n",
      "Item     Total Quantity    Total Price\n",
      "apple           542                    59170\n",
      "banana           647                    70600\n",
      "orange           563                    61190\n",
      "chees           679                    74922\n",
      "cake           600                    65512\n",
      "umbrella           569                    61912\n",
      "lays           706                    76478\n",
      "ice           642                    70154\n",
      "chocalate           720                    77912\n",
      "car           515                    56332\n"
     ]
    }
   ],
   "source": [
    "def minmax(iteam):\n",
    " max=0\n",
    " min=1180\n",
    " tq=[0]*10\n",
    " tp=[0]*10\n",
    " for i in range(0,10):\n",
    "  for lines in open(\"23122016.txt\",\"r+\").readlines():\n",
    "    if iteam[i] in lines:\n",
    "      y=lines.split(\",\")\n",
    "      tq[i]=tq[i]+int(y[1])\n",
    "      tp[i]=tp[i]+int(y[3])\n",
    "      if int(y[3])>max:\n",
    "        max=int(y[3])\n",
    "        if int(y[3])<min:\n",
    "              min=int(y[3])\n",
    "  print(\"maximum value of :\",iteam[i],min)            \n",
    "  print(\"minimum value of \",iteam[i],max)\n",
    " print(\"Item    \",\"Total Quantity   \",\"Total Price\")\n",
    " for i in range(0,10):\n",
    "    print(iteam[i],\"         \",tq[i],\"                  \",tp[i])  \n",
    "  \n",
    "minmax(iteam)\n",
    "  "
   ]
  },
  {
   "cell_type": "code",
   "execution_count": null,
   "metadata": {},
   "outputs": [],
   "source": []
  },
  {
   "cell_type": "code",
   "execution_count": null,
   "metadata": {},
   "outputs": [],
   "source": []
  },
  {
   "cell_type": "markdown",
   "metadata": {},
   "source": [
    "total cost of each unique iteam"
   ]
  },
  {
   "cell_type": "code",
   "execution_count": null,
   "metadata": {},
   "outputs": [],
   "source": [
    " \n",
    " "
   ]
  }
 ],
 "metadata": {
  "kernelspec": {
   "display_name": "Python 3",
   "language": "python",
   "name": "python3"
  },
  "language_info": {
   "codemirror_mode": {
    "name": "ipython",
    "version": 3
   },
   "file_extension": ".py",
   "mimetype": "text/x-python",
   "name": "python",
   "nbconvert_exporter": "python",
   "pygments_lexer": "ipython3",
   "version": "3.11.4"
  },
  "orig_nbformat": 4
 },
 "nbformat": 4,
 "nbformat_minor": 2
}
