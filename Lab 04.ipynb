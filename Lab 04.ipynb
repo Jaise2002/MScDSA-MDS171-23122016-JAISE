{
 "cells": [
  {
   "cell_type": "markdown",
   "metadata": {},
   "source": [
    "Lab 04:A Taste of Success: The Restaurant Management System\n",
    "In the heart of the bustling city of Lavasa was a charming little restaurant named \"Culinary Delights.\" Owned by a passionate chef named Chef Amelia, Culinary Delights was renowned for its mouthwatering dishes, warm ambience, and exceptional customer service.\n",
    "\n",
    "Chef Amelia had always dreamed of running her restaurant since she was a child. Her love for cooking led her to culinary school, where she honed her skills and developed her signature recipes. With hard work and determination, she finally opened Culinary Delights, a cosy place where people could savour her culinary creations.\n",
    "\n",
    "As Culinary Delights gained popularity, it faced a significant challenge – managing orders efficiently. Chef Amelia realised that she needed a robust Restaurant Management System (RMS) to maintain the restaurant's reputation.\n",
    "\n",
    "Chef Amelia would like to hire you as a team lead for the talented software developers Mark, Sarah, and David she already has. Together, you will create an advanced RMS that will revolutionise Culinary Delights.\n",
    "\n",
    "The software Chef Amelia is looking for is straightforward and has to store the orders in a file the restaurant gets from its customers.\n",
    "\n",
    "As a data analyst specialist, gather insights from the orders that Your hotel Culinary Delights received from their customer over time and display it to Chef Amelia as she uses your Software Application."
   ]
  },
  {
   "cell_type": "code",
   "execution_count": 3,
   "metadata": {},
   "outputs": [],
   "source": [
    "def cservice(name,order,date,rate,qty,number):#defining function\n",
    "    service=open(name+\".txt\",\"a+\")#opeing file name.txt\n",
    "    service.write(\"name\\t:\\t\"+name)\n",
    "    service.write(\"\\norder\\t:\\t\"+order)\n",
    "    service.write(\"\\ndate\\t:\\t\"+date)\n",
    "    service.write(\"\\nrate\\t:\\t\"+rate)\n",
    "    service.write(\"\\nqty\\t:\\t\"+qty)\n",
    "    service.write(\"\\nnumber\\t:\\t\"+number)\n",
    "    service.close()\n",
    "    return True\n"
   ]
  },
  {
   "cell_type": "code",
   "execution_count": 4,
   "metadata": {},
   "outputs": [
    {
     "name": "stdout",
     "output_type": "stream",
     "text": [
      "your detil are saved..\n",
      "******************************\n",
      "name\t:\tjaise\n",
      "\n",
      "order\t:\tchiken\n",
      "\n",
      "date\t:\t1-12-2023\n",
      "\n",
      "rate\t:\t120\n",
      "\n",
      "qty\t:\t2\n",
      "\n",
      "number\t:\t778922882\n",
      "******************************\n"
     ]
    }
   ],
   "source": [
    "name=input(\"enter your name\")#getting detils from costomer\n",
    "order=input(\"enter your order\")\n",
    "date=input(\"enter the date\")\n",
    "rate=input(\"enter the rate\")\n",
    "qty=input(\"enter the quantity\")\n",
    "number=input(\"enter your number\")\n",
    "ret=cservice(name,order,date,rate,qty,number)#calling function\n",
    "if ret:\n",
    "    print(\"your detil are saved..\")\n",
    "    print(\"*\"*30)\n",
    "    for line in open(name+\".txt\",\"r+\").readlines():\n",
    "        print(line)\n",
    "    print(\"*\"*30)\n",
    "else:\n",
    "    print(\"some error occured\")        "
   ]
  },
  {
   "cell_type": "code",
   "execution_count": 6,
   "metadata": {},
   "outputs": [
    {
     "ename": "IndentationError",
     "evalue": "unindent does not match any outer indentation level (<tokenize>, line 6)",
     "output_type": "error",
     "traceback": [
      "\u001b[1;36m  File \u001b[1;32m<tokenize>:6\u001b[1;36m\u001b[0m\n\u001b[1;33m    print(\"the number of times he ordered a food: \",count)\u001b[0m\n\u001b[1;37m    ^\u001b[0m\n\u001b[1;31mIndentationError\u001b[0m\u001b[1;31m:\u001b[0m unindent does not match any outer indentation level\n"
     ]
    }
   ],
   "source": [
    "service_read=open(\"name.txt\",\"r+\")\n",
    "\n",
    "\n",
    "for  name==\"jaise\":\n",
    "    count+=count\n",
    "  print(\"the number of times he ordered a food: \",count)   \n",
    "    "
   ]
  },
  {
   "cell_type": "code",
   "execution_count": null,
   "metadata": {},
   "outputs": [],
   "source": []
  }
 ],
 "metadata": {
  "kernelspec": {
   "display_name": "Python 3",
   "language": "python",
   "name": "python3"
  },
  "language_info": {
   "codemirror_mode": {
    "name": "ipython",
    "version": 3
   },
   "file_extension": ".py",
   "mimetype": "text/x-python",
   "name": "python",
   "nbconvert_exporter": "python",
   "pygments_lexer": "ipython3",
   "version": "3.11.4"
  },
  "orig_nbformat": 4
 },
 "nbformat": 4,
 "nbformat_minor": 2
}
