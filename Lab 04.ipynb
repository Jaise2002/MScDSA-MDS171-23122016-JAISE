{
 "cells": [
  {
   "cell_type": "markdown",
   "metadata": {},
   "source": [
    "Lab 04:A Taste of Success: The Restaurant Management System\n",
    "In the heart of the bustling city of Lavasa was a charming little restaurant named \"Culinary Delights.\" Owned by a passionate chef named Chef Amelia, Culinary Delights was renowned for its mouthwatering dishes, warm ambience, and exceptional customer service.\n",
    "\n",
    "Chef Amelia had always dreamed of running her restaurant since she was a child. Her love for cooking led her to culinary school, where she honed her skills and developed her signature recipes. With hard work and determination, she finally opened Culinary Delights, a cosy place where people could savour her culinary creations.\n",
    "\n",
    "As Culinary Delights gained popularity, it faced a significant challenge – managing orders efficiently. Chef Amelia realised that she needed a robust Restaurant Management System (RMS) to maintain the restaurant's reputation.\n",
    "\n",
    "Chef Amelia would like to hire you as a team lead for the talented software developers Mark, Sarah, and David she already has. Together, you will create an advanced RMS that will revolutionise Culinary Delights.\n",
    "\n",
    "The software Chef Amelia is looking for is straightforward and has to store the orders in a file the restaurant gets from its customers.\n",
    "\n",
    "As a data analyst specialist, gather insights from the orders that Your hotel Culinary Delights received from their customer over time and display it to Chef Amelia as she uses your Software Application."
   ]
  },
  {
   "cell_type": "code",
   "execution_count": 47,
   "metadata": {},
   "outputs": [],
   "source": [
    "def cservice(name,order,date,rate,qty,number):#defining function\n",
    "    service=open(\"file.txt\",\"a+\")#opeing file file.txt\n",
    "    service.write(\"\\nname\\t:\\t\"+name)\n",
    "    service.write(\"\\norder\\t:\\t\"+order)\n",
    "    service.write(\"\\ndate\\t:\\t\"+date)\n",
    "    service.write(\"\\nrate\\t:\\t\"+rate)\n",
    "    service.write(\"\\nqty\\t:\\t\"+qty)\n",
    "    service.write(\"\\nnumber\\t:\\t\"+number)\n",
    "    service.close()\n",
    "    return True\n"
   ]
  },
  {
   "cell_type": "code",
   "execution_count": 42,
   "metadata": {},
   "outputs": [
    {
     "name": "stdout",
     "output_type": "stream",
     "text": [
      "your detil are saved..\n",
      "******************************\n",
      "name\t:\tjaise\n",
      "\n",
      "order\t:\tporotta\n",
      "\n",
      "date\t:\t1-23-23\n",
      "\n",
      "rate\t:\t120\n",
      "\n",
      "qty\t:\t4\n",
      "\n",
      "number\t:\t288399332name\t:\tjolin\n",
      "\n",
      "order\t:\tputtu\n",
      "\n",
      "date\t:\t1-12-2023\n",
      "\n",
      "rate\t:\t201\n",
      "\n",
      "qty\t:\t4\n",
      "\n",
      "number\t:\t18399393name\t:\tjolin\n",
      "\n",
      "order\t:\tputtu\n",
      "\n",
      "date\t:\t1-12-2023\n",
      "\n",
      "rate\t:\t302\n",
      "\n",
      "qty\t:\t4\n",
      "\n",
      "number\t:\t235958833name\t:\tkunji\n",
      "\n",
      "order\t:\tkappa\n",
      "\n",
      "date\t:\t12-12-2023\n",
      "\n",
      "rate\t:\t203\n",
      "\n",
      "qty\t:\t2\n",
      "\n",
      "number\t:\t4567897544name\t:\tadresh\n",
      "\n",
      "order\t:\tchiken\n",
      "\n",
      "date\t:\t1-23-23\n",
      "\n",
      "rate\t:\t201\n",
      "\n",
      "qty\t:\t4\n",
      "\n",
      "number\t:\t5679965456\n",
      "******************************\n"
     ]
    }
   ],
   "source": [
    "name=input(\"enter your name\")#getting detils from costomer\n",
    "order=input(\"enter your order\")\n",
    "date=input(\"enter the date\")\n",
    "rate=input(\"enter the rate\")\n",
    "qty=input(\"enter the quantity\")\n",
    "number=input(\"enter your number\")\n",
    "ret=cservice(name,order,date,rate,qty,number)#calling function\n",
    "if ret:\n",
    "    print(\"your detil are saved..\")\n",
    "    print(\"*\"*30)\n",
    "    for line in open(\"file.txt\",\"r+\").readlines():\n",
    "        print(line)\n",
    "    print(\"*\"*30)\n",
    "else:\n",
    "    print(\"some error occured\")        "
   ]
  },
  {
   "cell_type": "markdown",
   "metadata": {},
   "source": [
    "analysing part"
   ]
  },
  {
   "cell_type": "code",
   "execution_count": 64,
   "metadata": {},
   "outputs": [
    {
     "name": "stdout",
     "output_type": "stream",
     "text": [
      "number of puttu ordered:2\n"
     ]
    }
   ],
   "source": [
    "def count_items(dish):#funtion to find the count of orederd iteam\n",
    "       service=open(\"file.txt\",\"r\")\n",
    "       count = 0\n",
    "       for line in service.readlines():\n",
    "       \tif line != '\\n':\n",
    "       \t\torder = line.split(':')[1]\n",
    "       \t\tif order[1:len(order)-1] == dish:\n",
    "       \t\t\tcount +=1\n",
    "       print(f\"number of {dish} ordered:{count}\")\n",
    "\n",
    "k=int(input(\"enter 1 to get number of times porotta ordered,enter 2 to get number of times puttu ordered\"))\n",
    "\n",
    "if k==1:      \n",
    " count_items(\"porotta\")\n",
    "elif k==2:\n",
    " count_items(\"puttu\")\n",
    "\n"
   ]
  }
 ],
 "metadata": {
  "kernelspec": {
   "display_name": "Python 3",
   "language": "python",
   "name": "python3"
  },
  "language_info": {
   "codemirror_mode": {
    "name": "ipython",
    "version": 3
   },
   "file_extension": ".py",
   "mimetype": "text/x-python",
   "name": "python",
   "nbconvert_exporter": "python",
   "pygments_lexer": "ipython3",
   "version": "3.11.4"
  },
  "orig_nbformat": 4
 },
 "nbformat": 4,
 "nbformat_minor": 2
}
